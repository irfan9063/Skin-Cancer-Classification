{
 "cells": [
  {
   "cell_type": "code",
   "execution_count": 1,
   "id": "a683ed4e",
   "metadata": {},
   "outputs": [],
   "source": [
    "import matplotlib.pyplot as plt\n",
    "import numpy as np\n",
    "import pandas as pd\n",
    "import os\n",
    "from glob import glob\n",
    "import seaborn as sns\n",
    "from PIL import Image\n",
    "\n",
    "np.random.seed(40)\n",
    "from sklearn.metrics import confusion_matrix\n",
    "\n",
    "import keras\n",
    "from keras.utils import to_categorical\n",
    "from keras.models import Sequential\n",
    "from keras.layers import Dense, Dropout, Flatten, Conv2D, MaxPool2D, BatchNormalization\n",
    "from sklearn.model_selection import train_test_split\n",
    "from scipy import stats\n",
    "from sklearn.preprocessing import LabelEncoder"
   ]
  },
  {
   "cell_type": "code",
   "execution_count": 2,
   "id": "22beb5c5",
   "metadata": {},
   "outputs": [],
   "source": [
    "skin_df = pd.read_csv('data/HAM10000_metadata.csv')"
   ]
  },
  {
   "cell_type": "code",
   "execution_count": 3,
   "id": "3a988a48",
   "metadata": {},
   "outputs": [],
   "source": [
    "SIZE=64"
   ]
  },
  {
   "cell_type": "code",
   "execution_count": 4,
   "id": "2ba2ab61",
   "metadata": {},
   "outputs": [
    {
     "name": "stdout",
     "output_type": "stream",
     "text": [
      "['akiec', 'bcc', 'bkl', 'df', 'mel', 'nv', 'vasc']\n"
     ]
    }
   ],
   "source": [
    "le = LabelEncoder()\n",
    "le.fit(skin_df['dx'])\n",
    "LabelEncoder()\n",
    "print(list(le.classes_))"
   ]
  },
  {
   "cell_type": "code",
   "execution_count": 5,
   "id": "8675d39a",
   "metadata": {},
   "outputs": [
    {
     "name": "stdout",
     "output_type": "stream",
     "text": [
      "        lesion_id      image_id     dx    dx_type   age     sex  \\\n",
      "8296  HAM_0001525  ISIC_0025662     nv      histo  35.0    male   \n",
      "1324  HAM_0002471  ISIC_0028326    mel      histo  40.0  female   \n",
      "4457  HAM_0007404  ISIC_0030295     nv  follow_up  50.0  female   \n",
      "3619  HAM_0004678  ISIC_0025952     nv  follow_up  50.0    male   \n",
      "6098  HAM_0000436  ISIC_0026547     nv  follow_up  45.0    male   \n",
      "5105  HAM_0003180  ISIC_0031058     nv  follow_up  40.0    male   \n",
      "9889  HAM_0005231  ISIC_0029043  akiec      histo  70.0    male   \n",
      "3530  HAM_0002283  ISIC_0028869     nv  follow_up  40.0  female   \n",
      "6750  HAM_0003230  ISIC_0027640     nv      histo  45.0    male   \n",
      "8015  HAM_0005489  ISIC_0033851     nv      histo  60.0    male   \n",
      "\n",
      "         localization  label  \n",
      "8296  upper extremity      5  \n",
      "1324  lower extremity      4  \n",
      "4457            trunk      5  \n",
      "3619  lower extremity      5  \n",
      "6098            trunk      5  \n",
      "5105  upper extremity      5  \n",
      "9889  lower extremity      0  \n",
      "3530  lower extremity      5  \n",
      "6750          abdomen      5  \n",
      "8015            trunk      5  \n"
     ]
    }
   ],
   "source": [
    "skin_df['label'] = le.transform(skin_df[\"dx\"]) \n",
    "print(skin_df.sample(10))"
   ]
  },
  {
   "cell_type": "code",
   "execution_count": 6,
   "id": "f28aa8ef",
   "metadata": {},
   "outputs": [
    {
     "name": "stdout",
     "output_type": "stream",
     "text": [
      "5    6705\n",
      "4    1113\n",
      "2    1099\n",
      "1     514\n",
      "0     327\n",
      "6     142\n",
      "3     115\n",
      "Name: label, dtype: int64\n"
     ]
    }
   ],
   "source": [
    "from sklearn.utils import resample\n",
    "print(skin_df['label'].value_counts())"
   ]
  },
  {
   "cell_type": "code",
   "execution_count": 7,
   "id": "2d279327",
   "metadata": {},
   "outputs": [],
   "source": [
    "skin_df_l0 = skin_df[skin_df['label'] == 0]\n",
    "skin_df_l1 = skin_df[skin_df['label'] == 1]\n",
    "skin_df_l2 = skin_df[skin_df['label'] == 2]\n",
    "skin_df_l3 = skin_df[skin_df['label'] == 3]\n",
    "skin_df_l4 = skin_df[skin_df['label'] == 4]\n",
    "skin_df_l5 = skin_df[skin_df['label'] == 5]\n",
    "skin_df_l6 = skin_df[skin_df['label'] == 6]"
   ]
  },
  {
   "cell_type": "code",
   "execution_count": 8,
   "id": "be0f55c0",
   "metadata": {},
   "outputs": [],
   "source": [
    "n_samples=500 \n",
    "skin_df_l0_balanced = resample(skin_df_l0, replace=True, n_samples=n_samples, random_state=42) \n",
    "skin_df_l1_balanced = resample(skin_df_l1, replace=True, n_samples=n_samples, random_state=42) \n",
    "skin_df_l2_balanced = resample(skin_df_l2, replace=True, n_samples=n_samples, random_state=42)\n",
    "skin_df_l3_balanced = resample(skin_df_l3, replace=True, n_samples=n_samples, random_state=42)\n",
    "skin_df_l4_balanced = resample(skin_df_l4, replace=True, n_samples=n_samples, random_state=42)\n",
    "skin_df_l5_balanced = resample(skin_df_l5, replace=True, n_samples=n_samples, random_state=42)\n",
    "skin_df_l6_balanced = resample(skin_df_l6, replace=True, n_samples=n_samples, random_state=42)"
   ]
  },
  {
   "cell_type": "code",
   "execution_count": 9,
   "id": "9810bdae",
   "metadata": {},
   "outputs": [],
   "source": [
    "skin_df_balanced = pd.concat([skin_df_l0_balanced, skin_df_l1_balanced, \n",
    "                              skin_df_l2_balanced, skin_df_l3_balanced, \n",
    "                              skin_df_l4_balanced, skin_df_l5_balanced, skin_df_l6_balanced])"
   ]
  },
  {
   "cell_type": "code",
   "execution_count": 10,
   "id": "68611e72",
   "metadata": {},
   "outputs": [
    {
     "name": "stdout",
     "output_type": "stream",
     "text": [
      "0    500\n",
      "1    500\n",
      "2    500\n",
      "3    500\n",
      "4    500\n",
      "5    500\n",
      "6    500\n",
      "Name: label, dtype: int64\n"
     ]
    }
   ],
   "source": [
    "print(skin_df_balanced['label'].value_counts())"
   ]
  },
  {
   "cell_type": "code",
   "execution_count": 11,
   "id": "da953329",
   "metadata": {},
   "outputs": [],
   "source": [
    "image_path = {os.path.splitext(os.path.basename(x))[0]: x\n",
    "                     for x in glob(os.path.join('data/', '*', '*.jpg'))}\n",
    "\n",
    "skin_df_balanced['path'] = skin_df['image_id'].map(image_path.get)\n",
    "skin_df_balanced['image'] = skin_df_balanced['path'].map(lambda x: np.asarray(Image.open(x).resize((SIZE,SIZE))))"
   ]
  },
  {
   "cell_type": "code",
   "execution_count": 12,
   "id": "e403d73c",
   "metadata": {},
   "outputs": [],
   "source": [
    "X = np.asarray(skin_df_balanced['image'].tolist())\n",
    "X = X/255.  \n",
    "Y=skin_df_balanced['label']  \n",
    "Y_cat = to_categorical(Y, num_classes=7)"
   ]
  },
  {
   "cell_type": "code",
   "execution_count": 13,
   "id": "56fee248",
   "metadata": {},
   "outputs": [],
   "source": [
    "x_train, x_test, y_train, y_test = train_test_split(X, Y_cat, test_size=0.25, random_state=40)"
   ]
  },
  {
   "cell_type": "code",
   "execution_count": 14,
   "id": "e4e4f8a8",
   "metadata": {},
   "outputs": [
    {
     "name": "stdout",
     "output_type": "stream",
     "text": [
      "Model: \"sequential\"\n",
      "_________________________________________________________________\n",
      " Layer (type)                Output Shape              Param #   \n",
      "=================================================================\n",
      " conv2d (Conv2D)             (None, 62, 62, 256)       7168      \n",
      "                                                                 \n",
      " max_pooling2d (MaxPooling2  (None, 31, 31, 256)       0         \n",
      " D)                                                              \n",
      "                                                                 \n",
      " dropout (Dropout)           (None, 31, 31, 256)       0         \n",
      "                                                                 \n",
      " conv2d_1 (Conv2D)           (None, 29, 29, 128)       295040    \n",
      "                                                                 \n",
      " max_pooling2d_1 (MaxPoolin  (None, 14, 14, 128)       0         \n",
      " g2D)                                                            \n",
      "                                                                 \n",
      " dropout_1 (Dropout)         (None, 14, 14, 128)       0         \n",
      "                                                                 \n",
      " conv2d_2 (Conv2D)           (None, 12, 12, 64)        73792     \n",
      "                                                                 \n",
      " max_pooling2d_2 (MaxPoolin  (None, 6, 6, 64)          0         \n",
      " g2D)                                                            \n",
      "                                                                 \n",
      " dropout_2 (Dropout)         (None, 6, 6, 64)          0         \n",
      "                                                                 \n",
      " flatten (Flatten)           (None, 2304)              0         \n",
      "                                                                 \n",
      " dense (Dense)               (None, 32)                73760     \n",
      "                                                                 \n",
      " dense_1 (Dense)             (None, 7)                 231       \n",
      "                                                                 \n",
      "=================================================================\n",
      "Total params: 449991 (1.72 MB)\n",
      "Trainable params: 449991 (1.72 MB)\n",
      "Non-trainable params: 0 (0.00 Byte)\n",
      "_________________________________________________________________\n"
     ]
    }
   ],
   "source": [
    "num_classes = 7\n",
    "\n",
    "model = Sequential()\n",
    "model.add(Conv2D(256, (3, 3), activation=\"relu\", input_shape=(SIZE, SIZE, 3)))\n",
    "model.add(MaxPool2D(pool_size=(2, 2)))  \n",
    "model.add(Dropout(0.3))\n",
    "\n",
    "model.add(Conv2D(128, (3, 3),activation='relu'))\n",
    "model.add(MaxPool2D(pool_size=(2, 2)))  \n",
    "model.add(Dropout(0.3))\n",
    "\n",
    "model.add(Conv2D(64, (3, 3),activation='relu'))\n",
    "model.add(MaxPool2D(pool_size=(2, 2)))  \n",
    "model.add(Dropout(0.3))\n",
    "model.add(Flatten())\n",
    "\n",
    "model.add(Dense(32))\n",
    "model.add(Dense(7, activation='softmax'))\n",
    "model.summary()\n",
    "\n",
    "model.compile(loss='categorical_crossentropy', optimizer='Adam', metrics=['acc'])"
   ]
  },
  {
   "cell_type": "code",
   "execution_count": 15,
   "id": "614f1449",
   "metadata": {},
   "outputs": [],
   "source": [
    "batch_size = 32 \n",
    "epochs = 100"
   ]
  },
  {
   "cell_type": "code",
   "execution_count": 16,
   "id": "ade1b6b6",
   "metadata": {},
   "outputs": [
    {
     "name": "stdout",
     "output_type": "stream",
     "text": [
      "Epoch 1/100\n",
      "83/83 - 43s - loss: 1.9283 - acc: 0.1703 - val_loss: 1.8052 - val_acc: 0.2343 - 43s/epoch - 517ms/step\n",
      "Epoch 2/100\n",
      "83/83 - 42s - loss: 1.7694 - acc: 0.2480 - val_loss: 1.7648 - val_acc: 0.2857 - 42s/epoch - 504ms/step\n",
      "Epoch 3/100\n",
      "83/83 - 42s - loss: 1.6356 - acc: 0.3227 - val_loss: 1.8535 - val_acc: 0.3211 - 42s/epoch - 502ms/step\n",
      "Epoch 4/100\n",
      "83/83 - 42s - loss: 1.5068 - acc: 0.3874 - val_loss: 1.4825 - val_acc: 0.4069 - 42s/epoch - 503ms/step\n",
      "Epoch 5/100\n",
      "83/83 - 43s - loss: 1.4199 - acc: 0.4331 - val_loss: 1.4690 - val_acc: 0.4240 - 43s/epoch - 514ms/step\n",
      "Epoch 6/100\n",
      "83/83 - 42s - loss: 1.3943 - acc: 0.4499 - val_loss: 1.3713 - val_acc: 0.4891 - 42s/epoch - 506ms/step\n",
      "Epoch 7/100\n",
      "83/83 - 42s - loss: 1.3544 - acc: 0.4636 - val_loss: 1.4416 - val_acc: 0.4046 - 42s/epoch - 504ms/step\n",
      "Epoch 8/100\n",
      "83/83 - 42s - loss: 1.2767 - acc: 0.4945 - val_loss: 1.4654 - val_acc: 0.4309 - 42s/epoch - 504ms/step\n",
      "Epoch 9/100\n",
      "83/83 - 42s - loss: 1.3236 - acc: 0.4800 - val_loss: 1.4067 - val_acc: 0.4571 - 42s/epoch - 503ms/step\n",
      "Epoch 10/100\n",
      "83/83 - 42s - loss: 1.1853 - acc: 0.5284 - val_loss: 1.5250 - val_acc: 0.4126 - 42s/epoch - 502ms/step\n",
      "Epoch 11/100\n",
      "83/83 - 42s - loss: 1.2010 - acc: 0.5288 - val_loss: 1.2299 - val_acc: 0.5463 - 42s/epoch - 503ms/step\n",
      "Epoch 12/100\n",
      "83/83 - 42s - loss: 1.1000 - acc: 0.5730 - val_loss: 1.1052 - val_acc: 0.5737 - 42s/epoch - 504ms/step\n",
      "Epoch 13/100\n",
      "83/83 - 42s - loss: 1.0789 - acc: 0.5855 - val_loss: 1.3483 - val_acc: 0.4834 - 42s/epoch - 501ms/step\n",
      "Epoch 14/100\n",
      "83/83 - 42s - loss: 1.1025 - acc: 0.5779 - val_loss: 1.2431 - val_acc: 0.5600 - 42s/epoch - 507ms/step\n",
      "Epoch 15/100\n",
      "83/83 - 45s - loss: 1.0124 - acc: 0.6069 - val_loss: 1.1933 - val_acc: 0.5600 - 45s/epoch - 540ms/step\n",
      "Epoch 16/100\n",
      "83/83 - 43s - loss: 0.9944 - acc: 0.6175 - val_loss: 1.0459 - val_acc: 0.6034 - 43s/epoch - 517ms/step\n",
      "Epoch 17/100\n",
      "83/83 - 42s - loss: 0.9330 - acc: 0.6400 - val_loss: 1.0334 - val_acc: 0.6229 - 42s/epoch - 504ms/step\n",
      "Epoch 18/100\n",
      "83/83 - 42s - loss: 0.9213 - acc: 0.6457 - val_loss: 1.0762 - val_acc: 0.6057 - 42s/epoch - 504ms/step\n",
      "Epoch 19/100\n",
      "83/83 - 42s - loss: 0.9217 - acc: 0.6411 - val_loss: 1.0363 - val_acc: 0.6343 - 42s/epoch - 503ms/step\n",
      "Epoch 20/100\n",
      "83/83 - 42s - loss: 0.8468 - acc: 0.6747 - val_loss: 0.9779 - val_acc: 0.6377 - 42s/epoch - 503ms/step\n",
      "Epoch 21/100\n",
      "83/83 - 42s - loss: 0.8017 - acc: 0.6968 - val_loss: 0.9839 - val_acc: 0.6354 - 42s/epoch - 503ms/step\n",
      "Epoch 22/100\n",
      "83/83 - 44s - loss: 0.8159 - acc: 0.6872 - val_loss: 0.9890 - val_acc: 0.6251 - 44s/epoch - 530ms/step\n",
      "Epoch 23/100\n",
      "83/83 - 42s - loss: 0.8394 - acc: 0.6850 - val_loss: 0.9584 - val_acc: 0.6526 - 42s/epoch - 505ms/step\n",
      "Epoch 24/100\n",
      "83/83 - 42s - loss: 0.8860 - acc: 0.6720 - val_loss: 0.9770 - val_acc: 0.6286 - 42s/epoch - 503ms/step\n",
      "Epoch 25/100\n",
      "83/83 - 42s - loss: 0.7895 - acc: 0.7025 - val_loss: 0.9068 - val_acc: 0.6674 - 42s/epoch - 501ms/step\n",
      "Epoch 26/100\n",
      "83/83 - 42s - loss: 0.7364 - acc: 0.7246 - val_loss: 0.8466 - val_acc: 0.6949 - 42s/epoch - 503ms/step\n",
      "Epoch 27/100\n",
      "83/83 - 42s - loss: 0.7191 - acc: 0.7291 - val_loss: 0.8702 - val_acc: 0.6949 - 42s/epoch - 502ms/step\n",
      "Epoch 28/100\n",
      "83/83 - 42s - loss: 0.6915 - acc: 0.7398 - val_loss: 0.8343 - val_acc: 0.7189 - 42s/epoch - 506ms/step\n",
      "Epoch 29/100\n",
      "83/83 - 42s - loss: 0.6635 - acc: 0.7448 - val_loss: 1.0592 - val_acc: 0.6411 - 42s/epoch - 503ms/step\n",
      "Epoch 30/100\n",
      "83/83 - 42s - loss: 0.8060 - acc: 0.6971 - val_loss: 0.8869 - val_acc: 0.6926 - 42s/epoch - 500ms/step\n",
      "Epoch 31/100\n",
      "83/83 - 42s - loss: 0.7467 - acc: 0.7314 - val_loss: 1.0310 - val_acc: 0.6549 - 42s/epoch - 503ms/step\n",
      "Epoch 32/100\n",
      "83/83 - 42s - loss: 0.9018 - acc: 0.6682 - val_loss: 0.8441 - val_acc: 0.7257 - 42s/epoch - 501ms/step\n",
      "Epoch 33/100\n",
      "83/83 - 42s - loss: 0.6440 - acc: 0.7577 - val_loss: 0.8776 - val_acc: 0.6994 - 42s/epoch - 502ms/step\n",
      "Epoch 34/100\n",
      "83/83 - 42s - loss: 0.7338 - acc: 0.7280 - val_loss: 0.8346 - val_acc: 0.7120 - 42s/epoch - 502ms/step\n",
      "Epoch 35/100\n",
      "83/83 - 42s - loss: 0.6411 - acc: 0.7653 - val_loss: 0.9177 - val_acc: 0.6583 - 42s/epoch - 503ms/step\n",
      "Epoch 36/100\n",
      "83/83 - 42s - loss: 0.6964 - acc: 0.7413 - val_loss: 0.8529 - val_acc: 0.7120 - 42s/epoch - 502ms/step\n",
      "Epoch 37/100\n",
      "83/83 - 42s - loss: 0.6531 - acc: 0.7547 - val_loss: 0.8696 - val_acc: 0.7131 - 42s/epoch - 503ms/step\n",
      "Epoch 38/100\n",
      "83/83 - 42s - loss: 0.5809 - acc: 0.7813 - val_loss: 0.8399 - val_acc: 0.7269 - 42s/epoch - 502ms/step\n",
      "Epoch 39/100\n",
      "83/83 - 41s - loss: 0.5639 - acc: 0.7840 - val_loss: 0.8530 - val_acc: 0.7246 - 41s/epoch - 499ms/step\n",
      "Epoch 40/100\n",
      "83/83 - 41s - loss: 0.5925 - acc: 0.7798 - val_loss: 0.8389 - val_acc: 0.7314 - 41s/epoch - 498ms/step\n",
      "Epoch 41/100\n",
      "83/83 - 42s - loss: 0.5542 - acc: 0.8000 - val_loss: 0.8397 - val_acc: 0.7109 - 42s/epoch - 500ms/step\n",
      "Epoch 42/100\n",
      "83/83 - 41s - loss: 0.5786 - acc: 0.7874 - val_loss: 0.8306 - val_acc: 0.7200 - 41s/epoch - 499ms/step\n",
      "Epoch 43/100\n",
      "83/83 - 41s - loss: 0.5557 - acc: 0.7958 - val_loss: 0.8209 - val_acc: 0.7360 - 41s/epoch - 499ms/step\n",
      "Epoch 44/100\n",
      "83/83 - 42s - loss: 0.5156 - acc: 0.8061 - val_loss: 0.8136 - val_acc: 0.7326 - 42s/epoch - 504ms/step\n",
      "Epoch 45/100\n",
      "83/83 - 41s - loss: 0.5256 - acc: 0.8057 - val_loss: 0.8059 - val_acc: 0.7531 - 41s/epoch - 500ms/step\n",
      "Epoch 46/100\n",
      "83/83 - 42s - loss: 0.5090 - acc: 0.8030 - val_loss: 0.8242 - val_acc: 0.7509 - 42s/epoch - 503ms/step\n",
      "Epoch 47/100\n",
      "83/83 - 46s - loss: 0.4990 - acc: 0.8084 - val_loss: 0.8412 - val_acc: 0.7429 - 46s/epoch - 548ms/step\n",
      "Epoch 48/100\n",
      "83/83 - 46s - loss: 0.5203 - acc: 0.8080 - val_loss: 0.8363 - val_acc: 0.7497 - 46s/epoch - 553ms/step\n",
      "Epoch 49/100\n",
      "83/83 - 46s - loss: 0.4919 - acc: 0.8183 - val_loss: 0.8206 - val_acc: 0.7520 - 46s/epoch - 553ms/step\n",
      "Epoch 50/100\n",
      "83/83 - 46s - loss: 0.7375 - acc: 0.7360 - val_loss: 0.8162 - val_acc: 0.7497 - 46s/epoch - 551ms/step\n",
      "Epoch 51/100\n",
      "83/83 - 46s - loss: 0.5399 - acc: 0.7962 - val_loss: 0.8397 - val_acc: 0.7337 - 46s/epoch - 553ms/step\n",
      "Epoch 52/100\n",
      "83/83 - 46s - loss: 0.6218 - acc: 0.7669 - val_loss: 0.7726 - val_acc: 0.7440 - 46s/epoch - 552ms/step\n",
      "Epoch 53/100\n",
      "83/83 - 46s - loss: 0.5151 - acc: 0.8065 - val_loss: 0.7813 - val_acc: 0.7657 - 46s/epoch - 553ms/step\n",
      "Epoch 54/100\n",
      "83/83 - 46s - loss: 0.4561 - acc: 0.8286 - val_loss: 0.8117 - val_acc: 0.7520 - 46s/epoch - 551ms/step\n",
      "Epoch 55/100\n",
      "83/83 - 46s - loss: 0.4719 - acc: 0.8267 - val_loss: 0.7647 - val_acc: 0.7691 - 46s/epoch - 552ms/step\n",
      "Epoch 56/100\n",
      "83/83 - 46s - loss: 0.4454 - acc: 0.8358 - val_loss: 0.8093 - val_acc: 0.7566 - 46s/epoch - 554ms/step\n",
      "Epoch 57/100\n",
      "83/83 - 46s - loss: 0.4795 - acc: 0.8156 - val_loss: 0.8589 - val_acc: 0.7520 - 46s/epoch - 551ms/step\n",
      "Epoch 58/100\n",
      "83/83 - 46s - loss: 0.6175 - acc: 0.7813 - val_loss: 0.7795 - val_acc: 0.7669 - 46s/epoch - 554ms/step\n",
      "Epoch 59/100\n",
      "83/83 - 46s - loss: 0.4629 - acc: 0.8236 - val_loss: 0.7802 - val_acc: 0.7646 - 46s/epoch - 551ms/step\n",
      "Epoch 60/100\n",
      "83/83 - 46s - loss: 0.4102 - acc: 0.8526 - val_loss: 0.8733 - val_acc: 0.7406 - 46s/epoch - 552ms/step\n",
      "Epoch 61/100\n",
      "83/83 - 46s - loss: 0.4627 - acc: 0.8309 - val_loss: 0.8065 - val_acc: 0.7611 - 46s/epoch - 554ms/step\n",
      "Epoch 62/100\n",
      "83/83 - 46s - loss: 0.4931 - acc: 0.8171 - val_loss: 0.7844 - val_acc: 0.7703 - 46s/epoch - 552ms/step\n",
      "Epoch 63/100\n",
      "83/83 - 46s - loss: 0.4275 - acc: 0.8400 - val_loss: 0.7967 - val_acc: 0.7783 - 46s/epoch - 550ms/step\n",
      "Epoch 64/100\n",
      "83/83 - 46s - loss: 0.4150 - acc: 0.8461 - val_loss: 0.9090 - val_acc: 0.7451 - 46s/epoch - 551ms/step\n",
      "Epoch 65/100\n",
      "83/83 - 46s - loss: 0.3883 - acc: 0.8560 - val_loss: 0.8130 - val_acc: 0.7589 - 46s/epoch - 551ms/step\n",
      "Epoch 66/100\n",
      "83/83 - 46s - loss: 0.4492 - acc: 0.8400 - val_loss: 0.7976 - val_acc: 0.7737 - 46s/epoch - 552ms/step\n",
      "Epoch 67/100\n",
      "83/83 - 46s - loss: 0.3827 - acc: 0.8632 - val_loss: 0.8292 - val_acc: 0.7680 - 46s/epoch - 550ms/step\n",
      "Epoch 68/100\n",
      "83/83 - 46s - loss: 0.4000 - acc: 0.8484 - val_loss: 0.8851 - val_acc: 0.7554 - 46s/epoch - 555ms/step\n",
      "Epoch 69/100\n",
      "83/83 - 46s - loss: 0.4636 - acc: 0.8305 - val_loss: 0.8363 - val_acc: 0.7611 - 46s/epoch - 551ms/step\n",
      "Epoch 70/100\n",
      "83/83 - 46s - loss: 0.4412 - acc: 0.8347 - val_loss: 0.8271 - val_acc: 0.7657 - 46s/epoch - 553ms/step\n",
      "Epoch 71/100\n",
      "83/83 - 46s - loss: 0.3678 - acc: 0.8663 - val_loss: 0.8001 - val_acc: 0.7874 - 46s/epoch - 550ms/step\n"
     ]
    },
    {
     "name": "stdout",
     "output_type": "stream",
     "text": [
      "Epoch 72/100\n",
      "83/83 - 46s - loss: 0.3715 - acc: 0.8579 - val_loss: 0.8141 - val_acc: 0.7886 - 46s/epoch - 552ms/step\n",
      "Epoch 73/100\n",
      "83/83 - 46s - loss: 0.3454 - acc: 0.8693 - val_loss: 0.7869 - val_acc: 0.7954 - 46s/epoch - 553ms/step\n",
      "Epoch 74/100\n",
      "83/83 - 46s - loss: 0.3570 - acc: 0.8750 - val_loss: 0.8036 - val_acc: 0.7920 - 46s/epoch - 559ms/step\n",
      "Epoch 75/100\n",
      "83/83 - 46s - loss: 0.3918 - acc: 0.8610 - val_loss: 0.8105 - val_acc: 0.7737 - 46s/epoch - 551ms/step\n",
      "Epoch 76/100\n",
      "83/83 - 46s - loss: 0.3440 - acc: 0.8766 - val_loss: 0.8479 - val_acc: 0.7783 - 46s/epoch - 550ms/step\n",
      "Epoch 77/100\n",
      "83/83 - 46s - loss: 0.4214 - acc: 0.8476 - val_loss: 0.8184 - val_acc: 0.7691 - 46s/epoch - 552ms/step\n",
      "Epoch 78/100\n",
      "83/83 - 46s - loss: 0.3775 - acc: 0.8636 - val_loss: 0.8500 - val_acc: 0.7737 - 46s/epoch - 553ms/step\n",
      "Epoch 79/100\n",
      "83/83 - 46s - loss: 0.3727 - acc: 0.8651 - val_loss: 0.7939 - val_acc: 0.7771 - 46s/epoch - 551ms/step\n",
      "Epoch 80/100\n",
      "83/83 - 46s - loss: 0.3787 - acc: 0.8564 - val_loss: 0.7371 - val_acc: 0.7954 - 46s/epoch - 550ms/step\n",
      "Epoch 81/100\n",
      "83/83 - 46s - loss: 0.3658 - acc: 0.8655 - val_loss: 0.8235 - val_acc: 0.7680 - 46s/epoch - 554ms/step\n",
      "Epoch 82/100\n",
      "83/83 - 46s - loss: 0.3454 - acc: 0.8739 - val_loss: 0.7516 - val_acc: 0.7966 - 46s/epoch - 554ms/step\n",
      "Epoch 83/100\n",
      "83/83 - 46s - loss: 0.3886 - acc: 0.8575 - val_loss: 0.8362 - val_acc: 0.7897 - 46s/epoch - 552ms/step\n",
      "Epoch 84/100\n",
      "83/83 - 46s - loss: 0.2851 - acc: 0.8971 - val_loss: 0.8434 - val_acc: 0.7829 - 46s/epoch - 552ms/step\n",
      "Epoch 85/100\n",
      "83/83 - 48s - loss: 0.3274 - acc: 0.8884 - val_loss: 0.8238 - val_acc: 0.7726 - 48s/epoch - 580ms/step\n",
      "Epoch 86/100\n",
      "83/83 - 46s - loss: 0.3014 - acc: 0.8949 - val_loss: 0.8505 - val_acc: 0.7909 - 46s/epoch - 551ms/step\n",
      "Epoch 87/100\n",
      "83/83 - 46s - loss: 0.3464 - acc: 0.8724 - val_loss: 0.8766 - val_acc: 0.7634 - 46s/epoch - 551ms/step\n",
      "Epoch 88/100\n",
      "83/83 - 46s - loss: 0.3332 - acc: 0.8796 - val_loss: 0.8208 - val_acc: 0.7840 - 46s/epoch - 550ms/step\n",
      "Epoch 89/100\n",
      "83/83 - 46s - loss: 0.3106 - acc: 0.8903 - val_loss: 0.8212 - val_acc: 0.7851 - 46s/epoch - 549ms/step\n",
      "Epoch 90/100\n",
      "83/83 - 47s - loss: 0.2713 - acc: 0.9040 - val_loss: 0.8579 - val_acc: 0.7817 - 47s/epoch - 561ms/step\n",
      "Epoch 91/100\n",
      "83/83 - 46s - loss: 0.3565 - acc: 0.8693 - val_loss: 0.7789 - val_acc: 0.7977 - 46s/epoch - 551ms/step\n",
      "Epoch 92/100\n",
      "83/83 - 46s - loss: 0.3292 - acc: 0.8789 - val_loss: 0.8504 - val_acc: 0.7840 - 46s/epoch - 551ms/step\n",
      "Epoch 93/100\n",
      "83/83 - 46s - loss: 0.2794 - acc: 0.9002 - val_loss: 0.8176 - val_acc: 0.7989 - 46s/epoch - 549ms/step\n",
      "Epoch 94/100\n",
      "83/83 - 46s - loss: 0.3274 - acc: 0.8853 - val_loss: 0.8388 - val_acc: 0.7874 - 46s/epoch - 550ms/step\n",
      "Epoch 95/100\n",
      "83/83 - 46s - loss: 0.2948 - acc: 0.8979 - val_loss: 0.8079 - val_acc: 0.7989 - 46s/epoch - 554ms/step\n",
      "Epoch 96/100\n",
      "83/83 - 47s - loss: 0.2661 - acc: 0.8990 - val_loss: 0.8844 - val_acc: 0.7771 - 47s/epoch - 565ms/step\n",
      "Epoch 97/100\n",
      "83/83 - 47s - loss: 0.3307 - acc: 0.8800 - val_loss: 0.7917 - val_acc: 0.8034 - 47s/epoch - 569ms/step\n",
      "Epoch 98/100\n",
      "83/83 - 46s - loss: 0.2733 - acc: 0.8971 - val_loss: 0.8307 - val_acc: 0.8057 - 46s/epoch - 555ms/step\n",
      "Epoch 99/100\n",
      "83/83 - 46s - loss: 0.3462 - acc: 0.8766 - val_loss: 0.9011 - val_acc: 0.7703 - 46s/epoch - 559ms/step\n",
      "Epoch 100/100\n",
      "83/83 - 46s - loss: 0.2603 - acc: 0.9006 - val_loss: 0.8296 - val_acc: 0.8069 - 46s/epoch - 559ms/step\n"
     ]
    }
   ],
   "source": [
    "history = model.fit(\n",
    "    x_train, y_train,\n",
    "    epochs=epochs,\n",
    "    batch_size = batch_size,\n",
    "    validation_data=(x_test, y_test),\n",
    "    verbose=2)\n"
   ]
  },
  {
   "cell_type": "code",
   "execution_count": 17,
   "id": "a31e690b",
   "metadata": {},
   "outputs": [
    {
     "name": "stdout",
     "output_type": "stream",
     "text": [
      "28/28 [==============================] - 3s 102ms/step - loss: 0.8296 - acc: 0.8069\n",
      "Test accuracy: 0.806857168674469\n"
     ]
    }
   ],
   "source": [
    "score = model.evaluate(x_test, y_test)\n",
    "print('Test accuracy:', score[1])"
   ]
  },
  {
   "cell_type": "code",
   "execution_count": 18,
   "id": "a70fdd1d",
   "metadata": {},
   "outputs": [
    {
     "data": {
      "image/png": "[encoded data removed]",
      "text/plain": [
       "<Figure size 432x288 with 1 Axes>"
      ]
     },
     "metadata": {
      "needs_background": "light"
     },
     "output_type": "display_data"
    },
    {
     "data": {
      "image/png": "[encoded data removed]",
      "text/plain": [
       "<Figure size 432x288 with 1 Axes>"
      ]
     },
     "metadata": {
      "needs_background": "light"
     },
     "output_type": "display_data"
    }
   ],
   "source": [
    "loss = history.history['loss']\n",
    "val_loss = history.history['val_loss']\n",
    "epochs = range(1, len(loss) + 1)\n",
    "plt.plot(epochs, loss, 'y', label='Training loss')\n",
    "plt.plot(epochs, val_loss, 'r', label='Validation loss')\n",
    "plt.title('Training and validation loss')\n",
    "plt.xlabel('Epochs')\n",
    "plt.ylabel('Loss')\n",
    "plt.legend()\n",
    "plt.show()\n",
    "\n",
    "\n",
    "acc = history.history['acc']\n",
    "val_acc = history.history['val_acc']\n",
    "plt.plot(epochs, acc, 'y', label='Training acc')\n",
    "plt.plot(epochs, val_acc, 'r', label='Validation acc')\n",
    "plt.title('Training and validation accuracy')\n",
    "plt.xlabel('Epochs')\n",
    "plt.ylabel('Accuracy')\n",
    "plt.legend()\n",
    "plt.show()\n"
   ]
  },
  {
   "cell_type": "code",
   "execution_count": 19,
   "id": "4a7b58b3",
   "metadata": {},
   "outputs": [
    {
     "name": "stdout",
     "output_type": "stream",
     "text": [
      "28/28 [==============================] - 3s 94ms/step\n"
     ]
    }
   ],
   "source": [
    "y_pred = model.predict(x_test)\n",
    "y_pred_classes = np.argmax(y_pred, axis = 1) \n",
    "y_true = np.argmax(y_test, axis = 1) \n"
   ]
  },
  {
   "cell_type": "code",
   "execution_count": 20,
   "id": "5de09f69",
   "metadata": {},
   "outputs": [],
   "source": [
    "cm = confusion_matrix(y_true, y_pred_classes)"
   ]
  },
  {
   "cell_type": "code",
   "execution_count": 21,
   "id": "ce796193",
   "metadata": {},
   "outputs": [
    {
     "data": {
      "text/plain": [
       "<AxesSubplot:>"
      ]
     },
     "execution_count": 21,
     "metadata": {},
     "output_type": "execute_result"
    },
    {
     "data": {
      "image/png": "[encoded data removed]",
      "text/plain": [
       "<Figure size 432x432 with 2 Axes>"
      ]
     },
     "metadata": {
      "needs_background": "light"
     },
     "output_type": "display_data"
    }
   ],
   "source": [
    "fig, ax = plt.subplots(figsize=(6,6))\n",
    "sns.set(font_scale=1.6)\n",
    "sns.heatmap(cm, annot=True, linewidths=.5, ax=ax)"
   ]
  },
  {
   "cell_type": "code",
   "execution_count": 26,
   "id": "d1541b7c",
   "metadata": {},
   "outputs": [],
   "source": [
    "\n",
    "model.save(\"HAM10000_2.keras\")\n",
    "\n",
    "\n",
    "import pickle\n",
    "\n",
    "with open(\"training_history.pkl\", \"wb\") as history_file:\n",
    "    pickle.dump(history.history, history_file)\n"
   ]
  },
  {
   "cell_type": "code",
   "execution_count": 47,
   "id": "b55d511f",
   "metadata": {},
   "outputs": [],
   "source": [
    "def preprocess_image(image_path):\n",
    "    img = Image.open(image_path).resize((SIZE, SIZE))\n",
    "    img_array = np.array(img) \n",
    "    img_array = img_array / 255.0 \n",
    "    img_array = np.expand_dims(img_array, axis=0) \n",
    "    return img_array"
   ]
  },
  {
   "cell_type": "code",
   "execution_count": 48,
   "id": "1c83c50e",
   "metadata": {},
   "outputs": [],
   "source": [
    "def predict_class(image_path):\n",
    "    preprocessed_image = preprocess_image(image_path)\n",
    "    predictions = model.predict(preprocessed_image)\n",
    "    class_idx = np.argmax(predictions)\n",
    "    return class_idx"
   ]
  },
  {
   "cell_type": "code",
   "execution_count": 49,
   "id": "32d6cd6a",
   "metadata": {},
   "outputs": [
    {
     "name": "stdout",
     "output_type": "stream",
     "text": [
      "1/1 [==============================] - 0s 28ms/step\n",
      "The predicted class is: Class1\n"
     ]
    }
   ],
   "source": [
    "image_path = \"C:/Users/Harshith/Downloads/akiec_image.jpg\"  \n",
    "\n",
    "predicted_class_idx = predict_class(image_path)\n",
    "\n",
    "class_labels = ['Class0', 'Class1', 'Class2', 'Class3', 'Class4', 'Class5', 'Class6']\n",
    "\n",
    "predicted_class_label = class_labels[predicted_class_idx]\n",
    "\n",
    "print(f'The predicted class is: {predicted_class_label}')"
   ]
  },
  {
   "cell_type": "code",
   "execution_count": null,
   "id": "226dcb33",
   "metadata": {},
   "outputs": [],
   "source": []
  }
 ],
 "metadata": {
  "kernelspec": {
   "display_name": "Python 3 (ipykernel)",
   "language": "python",
   "name": "python3"
  },
  "language_info": {
   "codemirror_mode": {
    "name": "ipython",
    "version": 3
   },
   "file_extension": ".py",
   "mimetype": "text/x-python",
   "name": "python",
   "nbconvert_exporter": "python",
   "pygments_lexer": "ipython3",
   "version": "3.9.7"
  }
 },
 "nbformat": 4,
 "nbformat_minor": 5
}
